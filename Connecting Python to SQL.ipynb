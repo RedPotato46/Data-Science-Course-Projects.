{
 "cells": [
  {
   "cell_type": "markdown",
   "id": "0c6e66c7",
   "metadata": {},
   "source": [
    "# Course Project : Terpbuy ( Part 2 - Connecting Python To SQL)"
   ]
  },
  {
   "cell_type": "code",
   "execution_count": 2,
   "id": "204ddcde",
   "metadata": {},
   "outputs": [],
   "source": [
    "##Q.1) Write a query to show the quantity of items sold by each department. Sort the results by department name.\n",
    "import pandas as pd\n",
    "import numpy as np\n",
    "import mysql.connector"
   ]
  },
  {
   "cell_type": "code",
   "execution_count": 4,
   "id": "e1088981",
   "metadata": {},
   "outputs": [
    {
     "name": "stdout",
     "output_type": "stream",
     "text": [
      "Defaulting to user installation because normal site-packages is not writeable\n",
      "Requirement already satisfied: mysql-connector-python in c:\\programdata\\anaconda3\\lib\\site-packages (8.3.0)\n"
     ]
    }
   ],
   "source": [
    "!pip install mysql-connector-python"
   ]
  },
  {
   "cell_type": "code",
   "execution_count": 6,
   "id": "df9c7abd",
   "metadata": {},
   "outputs": [],
   "source": [
    "conn= mysql.connector.connect(host='127.0.0.1', database='TerpBuy',user='root',password='Mugiwara@09')"
   ]
  },
  {
   "cell_type": "code",
   "execution_count": 8,
   "id": "b2c994ee",
   "metadata": {
    "scrolled": true
   },
   "outputs": [
    {
     "name": "stderr",
     "output_type": "stream",
     "text": [
      "C:\\Users\\Rahul Mahadik\\AppData\\Local\\Temp\\ipykernel_11996\\2208127234.py:1: UserWarning: pandas only supports SQLAlchemy connectable (engine/connection) or database string URI or sqlite3 DBAPI2 connection. Other DBAPI2 objects are not tested. Please consider using SQLAlchemy.\n",
      "  df_dept=pd.read_sql('select p.department_id,ol.quantity_sold,d.department_name from product p inner join order_line ol on ol.product_id=p.product_id \\\n"
     ]
    },
    {
     "data": {
      "text/html": [
       "<div>\n",
       "<style scoped>\n",
       "    .dataframe tbody tr th:only-of-type {\n",
       "        vertical-align: middle;\n",
       "    }\n",
       "\n",
       "    .dataframe tbody tr th {\n",
       "        vertical-align: top;\n",
       "    }\n",
       "\n",
       "    .dataframe thead th {\n",
       "        text-align: right;\n",
       "    }\n",
       "</style>\n",
       "<table border=\"1\" class=\"dataframe\">\n",
       "  <thead>\n",
       "    <tr style=\"text-align: right;\">\n",
       "      <th></th>\n",
       "      <th>quantity_sold</th>\n",
       "      <th>department_name</th>\n",
       "    </tr>\n",
       "    <tr>\n",
       "      <th>department_id</th>\n",
       "      <th></th>\n",
       "      <th></th>\n",
       "    </tr>\n",
       "  </thead>\n",
       "  <tbody>\n",
       "    <tr>\n",
       "      <th>7</th>\n",
       "      <td>1</td>\n",
       "      <td>Fan Shop</td>\n",
       "    </tr>\n",
       "    <tr>\n",
       "      <th>5</th>\n",
       "      <td>2</td>\n",
       "      <td>Golf</td>\n",
       "    </tr>\n",
       "    <tr>\n",
       "      <th>3</th>\n",
       "      <td>4</td>\n",
       "      <td>Footwear</td>\n",
       "    </tr>\n",
       "    <tr>\n",
       "      <th>4</th>\n",
       "      <td>4</td>\n",
       "      <td>Apparel</td>\n",
       "    </tr>\n",
       "    <tr>\n",
       "      <th>4</th>\n",
       "      <td>2</td>\n",
       "      <td>Apparel</td>\n",
       "    </tr>\n",
       "    <tr>\n",
       "      <th>...</th>\n",
       "      <td>...</td>\n",
       "      <td>...</td>\n",
       "    </tr>\n",
       "    <tr>\n",
       "      <th>4</th>\n",
       "      <td>1</td>\n",
       "      <td>Apparel</td>\n",
       "    </tr>\n",
       "    <tr>\n",
       "      <th>4</th>\n",
       "      <td>1</td>\n",
       "      <td>Apparel</td>\n",
       "    </tr>\n",
       "    <tr>\n",
       "      <th>4</th>\n",
       "      <td>1</td>\n",
       "      <td>Apparel</td>\n",
       "    </tr>\n",
       "    <tr>\n",
       "      <th>4</th>\n",
       "      <td>1</td>\n",
       "      <td>Apparel</td>\n",
       "    </tr>\n",
       "    <tr>\n",
       "      <th>4</th>\n",
       "      <td>1</td>\n",
       "      <td>Apparel</td>\n",
       "    </tr>\n",
       "  </tbody>\n",
       "</table>\n",
       "<p>4783 rows × 2 columns</p>\n",
       "</div>"
      ],
      "text/plain": [
       "               quantity_sold department_name\n",
       "department_id                               \n",
       "7                          1        Fan Shop\n",
       "5                          2            Golf\n",
       "3                          4        Footwear\n",
       "4                          4         Apparel\n",
       "4                          2         Apparel\n",
       "...                      ...             ...\n",
       "4                          1         Apparel\n",
       "4                          1         Apparel\n",
       "4                          1         Apparel\n",
       "4                          1         Apparel\n",
       "4                          1         Apparel\n",
       "\n",
       "[4783 rows x 2 columns]"
      ]
     },
     "execution_count": 8,
     "metadata": {},
     "output_type": "execute_result"
    }
   ],
   "source": [
    "df_dept=pd.read_sql('select p.department_id,ol.quantity_sold,d.department_name from product p inner join order_line ol on ol.product_id=p.product_id \\\n",
    "                    inner join department d on p.department_id=d.department_id',conn,index_col='department_id')\n",
    "df_dept\n"
   ]
  },
  {
   "cell_type": "code",
   "execution_count": 11,
   "id": "b8ab3d6b",
   "metadata": {},
   "outputs": [],
   "source": [
    "##Q.2) Using the query you wrote in Question 1, create a data visualization (e.g., a bar chart) showing all departments and the number of items each of them sold. \n",
    "## Using a markdown cell, explain what you observe from the analysis.\n",
    "##--\n"
   ]
  },
  {
   "cell_type": "code",
   "execution_count": 14,
   "id": "8ea53a71",
   "metadata": {},
   "outputs": [
    {
     "name": "stderr",
     "output_type": "stream",
     "text": [
      "C:\\Users\\Rahul Mahadik\\AppData\\Local\\Temp\\ipykernel_11996\\2581298601.py:3: UserWarning: pandas only supports SQLAlchemy connectable (engine/connection) or database string URI or sqlite3 DBAPI2 connection. Other DBAPI2 objects are not tested. Please consider using SQLAlchemy.\n",
      "  df_orders=pd.read_sql('SELECT YEAR(order_date) AS order_year, COUNT(*) AS num_orders FROM orders GROUP BY order_year',conn,index_col='order_year')\n"
     ]
    },
    {
     "data": {
      "text/html": [
       "<div>\n",
       "<style scoped>\n",
       "    .dataframe tbody tr th:only-of-type {\n",
       "        vertical-align: middle;\n",
       "    }\n",
       "\n",
       "    .dataframe tbody tr th {\n",
       "        vertical-align: top;\n",
       "    }\n",
       "\n",
       "    .dataframe thead th {\n",
       "        text-align: right;\n",
       "    }\n",
       "</style>\n",
       "<table border=\"1\" class=\"dataframe\">\n",
       "  <thead>\n",
       "    <tr style=\"text-align: right;\">\n",
       "      <th></th>\n",
       "      <th>num_orders</th>\n",
       "    </tr>\n",
       "    <tr>\n",
       "      <th>order_year</th>\n",
       "      <th></th>\n",
       "    </tr>\n",
       "  </thead>\n",
       "  <tbody>\n",
       "    <tr>\n",
       "      <th>2018</th>\n",
       "      <td>585</td>\n",
       "    </tr>\n",
       "    <tr>\n",
       "      <th>2019</th>\n",
       "      <td>708</td>\n",
       "    </tr>\n",
       "    <tr>\n",
       "      <th>2020</th>\n",
       "      <td>497</td>\n",
       "    </tr>\n",
       "    <tr>\n",
       "      <th>2021</th>\n",
       "      <td>362</td>\n",
       "    </tr>\n",
       "  </tbody>\n",
       "</table>\n",
       "</div>"
      ],
      "text/plain": [
       "            num_orders\n",
       "order_year            \n",
       "2018               585\n",
       "2019               708\n",
       "2020               497\n",
       "2021               362"
      ]
     },
     "execution_count": 14,
     "metadata": {},
     "output_type": "execute_result"
    }
   ],
   "source": [
    "##Q.3) Write a query to show the number of orders placed in each year in which at least one order was placed.\n",
    "##Hint: Search online to learn about MySQL’s YEAR() function to query data.\n",
    "df_orders=pd.read_sql('SELECT YEAR(order_date) AS order_year, COUNT(*) AS num_orders FROM orders GROUP BY order_year',conn,index_col='order_year')\n",
    "df_orders\n",
    "\n"
   ]
  },
  {
   "cell_type": "code",
   "execution_count": 17,
   "id": "9324d680",
   "metadata": {},
   "outputs": [],
   "source": [
    "##Q.4) Using the query you wrote in Question 3, create a data visualization (e.g., a line graph) showing all years and the number of orders placed during each year, \n",
    "## to see if there is a trend in ordering. Using a markdown cell, explain what you observe from the analysis.\n",
    "\n",
    "##---- "
   ]
  },
  {
   "cell_type": "markdown",
   "id": "fe8e008a",
   "metadata": {},
   "source": []
  },
  {
   "cell_type": "markdown",
   "id": "76b74364",
   "metadata": {},
   "source": []
  }
 ],
 "metadata": {
  "kernelspec": {
   "display_name": "Python 3 (ipykernel)",
   "language": "python",
   "name": "python3"
  },
  "language_info": {
   "codemirror_mode": {
    "name": "ipython",
    "version": 3
   },
   "file_extension": ".py",
   "mimetype": "text/x-python",
   "name": "python",
   "nbconvert_exporter": "python",
   "pygments_lexer": "ipython3",
   "version": "3.11.5"
  }
 },
 "nbformat": 4,
 "nbformat_minor": 5
}
